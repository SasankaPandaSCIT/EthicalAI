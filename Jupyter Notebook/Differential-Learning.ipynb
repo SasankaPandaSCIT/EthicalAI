{
 "cells": [
  {
   "cell_type": "code",
   "execution_count": null,
   "metadata": {},
   "outputs": [],
   "source": []
  },
  {
   "cell_type": "markdown",
   "metadata": {},
   "source": [
    "# Implementing Differential Privacy in Machine Learning\n",
    "\n",
    "## Introduction\n",
    "In this notebook, we will implement differential privacy using the **TensorFlow Privacy** library. We will apply it to a simple classification task using the **MNIST dataset** (handwritten digits). We will compare the model's performance with and without differential privacy.\n",
    "\n",
    "### Objectives:\n",
    "- Understand the concept of differential privacy.\n",
    "- Implement a differentially private training algorithm.\n",
    "- Compare the accuracy of models with and without differential privacy.\n",
    "\n",
    "## Prerequisites\n",
    "Make sure you have the following libraries installed:\n",
    "\n",
    "```bash\n",
    "pip install tensorflow tensorflow-privacy matplotlib"
   ]
  },
  {
   "cell_type": "code",
   "execution_count": null,
   "metadata": {},
   "outputs": [],
   "source": [
    "import tensorflow as tf\n",
    "import tensorflow_privacy as tfp\n",
    "import numpy as np\n",
    "import matplotlib.pyplot as plt\n",
    "from tensorflow.keras import datasets, layers, models"
   ]
  },
  {
   "cell_type": "code",
   "execution_count": null,
   "metadata": {},
   "outputs": [],
   "source": [
    "# Load the MNIST dataset\n",
    "(x_train, y_train), (x_test, y_test) = datasets.mnist.load_data()\n",
    "\n",
    "# Normalize the images to the range [0, 1]\n",
    "x_train = x_train.astype('float32') / 255\n",
    "x_test = x_test.astype('float32') / 255\n",
    "\n",
    "# Reshape the data\n",
    "x_train = x_train.reshape((x_train.shape[0], 28, 28, 1))\n",
    "x_test = x_test.reshape((x_test.shape[0], 28, 28, 1))"
   ]
  },
  {
   "cell_type": "code",
   "execution_count": null,
   "metadata": {},
   "outputs": [],
   "source": [
    "def create_model():\n",
    "    model = models.Sequential()\n",
    "    model.add(layers.Conv2D(32, (3, 3), activation='relu', input_shape=(28, 28, 1)))\n",
    "    model.add(layers.MaxPooling2D((2, 2)))\n",
    "    model.add(layers.Conv2D(64, (3, 3), activation='relu'))\n",
    "    model.add(layers.MaxPooling2D((2, 2)))\n",
    "    model.add(layers.Flatten())\n",
    "    model.add(layers.Dense(64, activation='relu'))\n",
    "    model.add(layers.Dense(10, activation='softmax'))\n",
    "    return model\n"
   ]
  },
  {
   "cell_type": "code",
   "execution_count": null,
   "metadata": {},
   "outputs": [],
   "source": [
    "# Create and compile the model\n",
    "model = create_model()\n",
    "model.compile(optimizer='adam', loss='sparse_categorical_crossentropy', metrics=['accuracy'])\n",
    "\n",
    "# Train the model\n",
    "history = model.fit(x_train, y_train, epochs=5, validation_split=0.2)\n"
   ]
  },
  {
   "cell_type": "code",
   "execution_count": null,
   "metadata": {},
   "outputs": [],
   "source": [
    "# Evaluate the model\n",
    "test_loss, test_acc = model.evaluate(x_test, y_test)\n",
    "print(f'Test accuracy without differential privacy: {test_acc:.4f}')\n"
   ]
  },
  {
   "cell_type": "code",
   "execution_count": null,
   "metadata": {},
   "outputs": [],
   "source": [
    "# Set differential privacy parameters\n",
    "noise_multiplier = 1.1  # Adjust noise multiplier for privacy\n",
    "l2_norm_clip = 1.0      # Clip gradients to this L2 norm\n",
    "epochs = 5              # Number of training epochs\n",
    "\n",
    "# Create and compile the model again for DP training\n",
    "model_dp = create_model()\n",
    "\n",
    "# Define the optimizer with differential privacy\n",
    "dp_optimizer = tfp.DPGradientDescentOptimizer(\n",
    "    l2_norm_clip=l2_norm_clip,\n",
    "    noise_multiplier=noise_multiplier,\n",
    "    num_microbatches=256,  # For better accuracy\n",
    "    learning_rate=0.01\n",
    ")\n",
    "\n",
    "model_dp.compile(optimizer=dp_optimizer, loss='sparse_categorical_crossentropy', metrics=['accuracy'])\n",
    "\n",
    "# Train the model with differential privacy\n",
    "history_dp = model_dp.fit(x_train, y_train, epochs=epochs, validation_split=0.2)\n"
   ]
  },
  {
   "cell_type": "code",
   "execution_count": null,
   "metadata": {},
   "outputs": [],
   "source": [
    "# Evaluate the model with differential privacy\n",
    "test_loss_dp, test_acc_dp = model_dp.evaluate(x_test, y_test)\n",
    "print(f'Test accuracy with differential privacy: {test_acc_dp:.4f}')\n"
   ]
  },
  {
   "cell_type": "code",
   "execution_count": null,
   "metadata": {},
   "outputs": [],
   "source": [
    "# Plot training and validation accuracy\n",
    "plt.figure(figsize=(12, 6))\n",
    "plt.subplot(1, 2, 1)\n",
    "plt.plot(history.history['accuracy'], label='Train Accuracy (No DP)')\n",
    "plt.plot(history.history['val_accuracy'], label='Val Accuracy (No DP)')\n",
    "plt.title('Training and Validation Accuracy (No DP)')\n",
    "plt.xlabel('Epoch')\n",
    "plt.ylabel('Accuracy')\n",
    "plt.legend()\n",
    "\n",
    "plt.subplot(1, 2, 2)\n",
    "plt.plot(history_dp.history['accuracy'], label='Train Accuracy (DP)')\n",
    "plt.plot(history_dp.history['val_accuracy'], label='Val Accuracy (DP)')\n",
    "plt.title('Training and Validation Accuracy (With DP)')\n",
    "plt.xlabel('Epoch')\n",
    "plt.ylabel('Accuracy')\n",
    "plt.legend()\n",
    "\n",
    "plt.tight_layout()\n",
    "plt.show()\n"
   ]
  },
  {
   "cell_type": "code",
   "execution_count": null,
   "metadata": {},
   "outputs": [],
   "source": []
  }
 ],
 "metadata": {
  "language_info": {
   "name": "python"
  }
 },
 "nbformat": 4,
 "nbformat_minor": 2
}
